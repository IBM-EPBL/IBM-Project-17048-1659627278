{
  "metadata": {
    "language_info": {
      "codemirror_mode": {
        "name": "python",
        "version": 3
      },
      "file_extension": ".py",
      "mimetype": "text/x-python",
      "name": "python",
      "nbconvert_exporter": "python",
      "pygments_lexer": "ipython3",
      "version": "3.8"
    },
    "kernelspec": {
      "name": "python",
      "display_name": "Python (Pyodide)",
      "language": "python"
    }
  },
  "nbformat_minor": 4,
  "nbformat": 4,
  "cells": [
    {
      "cell_type": "markdown",
      "source": "<b><h1>Basic python</h1></b>",
      "metadata": {}
    },
    {
      "cell_type": "markdown",
      "source": "<h3>1. Split this string</h3>",
      "metadata": {}
    },
    {
      "cell_type": "code",
      "source": "s = \"Hi there Sam!\"",
      "metadata": {
        "trusted": true
      },
      "execution_count": 1,
      "outputs": []
    },
    {
      "cell_type": "code",
      "source": "s = \"Hi there Sam!\"\nx=s.split()\nprint(x)",
      "metadata": {
        "trusted": true
      },
      "execution_count": 2,
      "outputs": [
        {
          "name": "stdout",
          "text": "['Hi', 'there', 'Sam!']\n",
          "output_type": "stream"
        }
      ]
    },
    {
      "cell_type": "markdown",
      "source": "<h3>2. Use .format() to print the following string.</h3>",
      "metadata": {}
    },
    {
      "cell_type": "markdown",
      "source": "<h4>Output should be: The diameter of Earth is 12742 kilometers.</h4>",
      "metadata": {}
    },
    {
      "cell_type": "code",
      "source": "planet = \"Earth\"\ndiameter = 12742\nstr=(\"The diameter of {planet} is {diameter} kilometers.\")\nprint((str.format(planet=\"Earth\",diameter=12742)))",
      "metadata": {
        "trusted": true
      },
      "execution_count": 3,
      "outputs": [
        {
          "name": "stdout",
          "text": "The diameter of Earth is 12742 kilometers.\n",
          "output_type": "stream"
        }
      ]
    },
    {
      "cell_type": "markdown",
      "source": "<h3>3. In this nest dictionary grab the word \"hello\"</h3>",
      "metadata": {}
    },
    {
      "cell_type": "code",
      "source": "d = {'k1':[1,2,3,{'tricky':['oh','man','inception',{'target':[1,2,3,'hello']}]}]}",
      "metadata": {
        "trusted": true
      },
      "execution_count": 4,
      "outputs": []
    },
    {
      "cell_type": "code",
      "source": "d.get('target',{}).get('hello')",
      "metadata": {
        "trusted": true
      },
      "execution_count": 5,
      "outputs": []
    },
    {
      "cell_type": "markdown",
      "source": "<h2>Numpy</h2>",
      "metadata": {}
    },
    {
      "cell_type": "code",
      "source": "import numpy as np",
      "metadata": {
        "trusted": true
      },
      "execution_count": 6,
      "outputs": []
    },
    {
      "cell_type": "markdown",
      "source": "<h3>4.1 Create an array of 10 zeros?</h3>",
      "metadata": {}
    },
    {
      "cell_type": "code",
      "source": "arr=np.zeros(10)\nprint(arr)",
      "metadata": {
        "trusted": true
      },
      "execution_count": 7,
      "outputs": [
        {
          "name": "stdout",
          "text": "[0. 0. 0. 0. 0. 0. 0. 0. 0. 0.]\n",
          "output_type": "stream"
        }
      ]
    },
    {
      "cell_type": "markdown",
      "source": "<h3>4.2 Create an array of 10 fives?</h3>",
      "metadata": {}
    },
    {
      "cell_type": "code",
      "source": "arr=np.ones(10)*5\nprint(arr)",
      "metadata": {
        "trusted": true
      },
      "execution_count": 8,
      "outputs": [
        {
          "name": "stdout",
          "text": "[5. 5. 5. 5. 5. 5. 5. 5. 5. 5.]\n",
          "output_type": "stream"
        }
      ]
    },
    {
      "cell_type": "markdown",
      "source": "<h3>5. Create an array of all the even integers from 20 to 35</h3>",
      "metadata": {}
    },
    {
      "cell_type": "code",
      "source": "arr=np.arange(20,36,2)\nprint(arr)",
      "metadata": {
        "trusted": true
      },
      "execution_count": 9,
      "outputs": [
        {
          "name": "stdout",
          "text": "[20 22 24 26 28 30 32 34]\n",
          "output_type": "stream"
        }
      ]
    },
    {
      "cell_type": "markdown",
      "source": "<h3>6. Create a 3x3 matrix with values ranging from 0 to 8</h3>",
      "metadata": {}
    },
    {
      "cell_type": "code",
      "source": "arr=np.arange(0,9).reshape(3,3)\nprint(arr)",
      "metadata": {
        "trusted": true
      },
      "execution_count": 10,
      "outputs": [
        {
          "name": "stdout",
          "text": "[[0 1 2]\n [3 4 5]\n [6 7 8]]\n",
          "output_type": "stream"
        }
      ]
    },
    {
      "cell_type": "markdown",
      "source": "<h3>7. Concatenate a and b</h3>",
      "metadata": {}
    },
    {
      "cell_type": "markdown",
      "source": "<h4>a = np.array([1, 2, 3]), b = np.array([4, 5, 6])</h4>",
      "metadata": {}
    },
    {
      "cell_type": "code",
      "source": "a=np.array([1,2,3])\nb=np.array([4,5,6])\nnp.concatenate((a,b),axis=None)",
      "metadata": {
        "trusted": true
      },
      "execution_count": 11,
      "outputs": [
        {
          "execution_count": 11,
          "output_type": "execute_result",
          "data": {
            "text/plain": "array([1, 2, 3, 4, 5, 6])"
          },
          "metadata": {}
        }
      ]
    },
    {
      "cell_type": "markdown",
      "source": "<h2>Pandas</h2>",
      "metadata": {}
    },
    {
      "cell_type": "code",
      "source": "import pandas as pd",
      "metadata": {
        "trusted": true
      },
      "execution_count": 12,
      "outputs": []
    },
    {
      "cell_type": "markdown",
      "source": "<h3>8. Create a dataframe with 3 rows and 2 columns</h3>",
      "metadata": {}
    },
    {
      "cell_type": "code",
      "source": "d={'Name':['aaa','bbb','ccc'],\n   'age':[23,30,18]}\nd= pd.DataFrame((d))\nprint(d)",
      "metadata": {
        "trusted": true
      },
      "execution_count": 13,
      "outputs": [
        {
          "name": "stdout",
          "text": "  Name  age\n0  aaa   23\n1  bbb   30\n2  ccc   18\n",
          "output_type": "stream"
        }
      ]
    },
    {
      "cell_type": "markdown",
      "source": "<h3>9. Generate the series of dates from 1st Jan, 2023 to 10th Feb, 2023</h3>",
      "metadata": {}
    },
    {
      "cell_type": "code",
      "source": "pd.date_range(start='1/1/2023', end='10/02/2023')",
      "metadata": {
        "trusted": true
      },
      "execution_count": 14,
      "outputs": [
        {
          "execution_count": 14,
          "output_type": "execute_result",
          "data": {
            "text/plain": "DatetimeIndex(['2023-01-01', '2023-01-02', '2023-01-03', '2023-01-04',\n               '2023-01-05', '2023-01-06', '2023-01-07', '2023-01-08',\n               '2023-01-09', '2023-01-10',\n               ...\n               '2023-09-23', '2023-09-24', '2023-09-25', '2023-09-26',\n               '2023-09-27', '2023-09-28', '2023-09-29', '2023-09-30',\n               '2023-10-01', '2023-10-02'],\n              dtype='datetime64[ns]', length=275, freq='D')"
          },
          "metadata": {}
        }
      ]
    },
    {
      "cell_type": "markdown",
      "source": "<h3>10. Create 2D list to DataFrame</h3>",
      "metadata": {}
    },
    {
      "cell_type": "markdown",
      "source": "<h4>lists = [[1, 'aaa', 22], [2, 'bbb', 25], [3, 'ccc', 24]]</h4>",
      "metadata": {}
    },
    {
      "cell_type": "code",
      "source": "lists = [[1, 'aaa', 22], [2, 'bbb', 25], [3, 'ccc', 24]]\nlst = [[1, 'aaa', 22], [2, 'bbb', 25], [3, 'ccc', 24]]    \ndf = pd.DataFrame(lst,columns =['Tag','day','number']) \nprint(df)",
      "metadata": {
        "trusted": true
      },
      "execution_count": 15,
      "outputs": [
        {
          "name": "stdout",
          "text": "   Tag  day  number\n0    1  aaa      22\n1    2  bbb      25\n2    3  ccc      24\n",
          "output_type": "stream"
        }
      ]
    }
  ]
}