{
 "cells": [
  {
   "cell_type": "markdown",
   "id": "333a287f",
   "metadata": {},
   "source": [
    "<h2><b>Comparing some fundamental regression methods</b></h2>"
   ]
  },
  {
   "cell_type": "markdown",
   "id": "189c16a3",
   "metadata": {},
   "source": [
    "In this notebook, we will try to predict the \"Chance of Admit\" data by using some of fundamental regression methods, which are Linear Regression, Multiple Linear Regression, Decision Tree Regression and Random Forest Regression."
   ]
  },
  {
   "cell_type": "markdown",
   "id": "61a464b0",
   "metadata": {},
   "source": [
    "<h4><i>Importing the required libraries</i></h4>"
   ]
  },
  {
   "cell_type": "code",
   "execution_count": 99,
   "id": "1b712bbf",
   "metadata": {},
   "outputs": [],
   "source": [
    "import numpy as np\n",
    "import pandas as pd\n",
    "import seaborn as sns\n",
    "import matplotlib.pyplot as plt\n",
    "import warnings\n",
    "warnings.filterwarnings('ignore')\n",
    "%matplotlib inline"
   ]
  },
  {
   "cell_type": "markdown",
   "id": "bdee0092",
   "metadata": {},
   "source": [
    "<h4><i>Preparing the dataset</i><h4>"
   ]
  },
  {
   "cell_type": "code",
   "execution_count": 100,
   "id": "67045103",
   "metadata": {},
   "outputs": [
    {
     "data": {
      "text/html": [
       "<div>\n",
       "<style scoped>\n",
       "    .dataframe tbody tr th:only-of-type {\n",
       "        vertical-align: middle;\n",
       "    }\n",
       "\n",
       "    .dataframe tbody tr th {\n",
       "        vertical-align: top;\n",
       "    }\n",
       "\n",
       "    .dataframe thead th {\n",
       "        text-align: right;\n",
       "    }\n",
       "</style>\n",
       "<table border=\"1\" class=\"dataframe\">\n",
       "  <thead>\n",
       "    <tr style=\"text-align: right;\">\n",
       "      <th></th>\n",
       "      <th>Serial No.</th>\n",
       "      <th>GRE Score</th>\n",
       "      <th>TOEFL Score</th>\n",
       "      <th>University Rating</th>\n",
       "      <th>SOP</th>\n",
       "      <th>LOR</th>\n",
       "      <th>CGPA</th>\n",
       "      <th>Research</th>\n",
       "      <th>Chance of Admit</th>\n",
       "    </tr>\n",
       "  </thead>\n",
       "  <tbody>\n",
       "    <tr>\n",
       "      <th>0</th>\n",
       "      <td>1</td>\n",
       "      <td>337</td>\n",
       "      <td>118</td>\n",
       "      <td>4</td>\n",
       "      <td>4.5</td>\n",
       "      <td>4.5</td>\n",
       "      <td>9.65</td>\n",
       "      <td>1</td>\n",
       "      <td>0.92</td>\n",
       "    </tr>\n",
       "    <tr>\n",
       "      <th>1</th>\n",
       "      <td>2</td>\n",
       "      <td>324</td>\n",
       "      <td>107</td>\n",
       "      <td>4</td>\n",
       "      <td>4.0</td>\n",
       "      <td>4.5</td>\n",
       "      <td>8.87</td>\n",
       "      <td>1</td>\n",
       "      <td>0.76</td>\n",
       "    </tr>\n",
       "    <tr>\n",
       "      <th>2</th>\n",
       "      <td>3</td>\n",
       "      <td>316</td>\n",
       "      <td>104</td>\n",
       "      <td>3</td>\n",
       "      <td>3.0</td>\n",
       "      <td>3.5</td>\n",
       "      <td>8.00</td>\n",
       "      <td>1</td>\n",
       "      <td>0.72</td>\n",
       "    </tr>\n",
       "    <tr>\n",
       "      <th>3</th>\n",
       "      <td>4</td>\n",
       "      <td>322</td>\n",
       "      <td>110</td>\n",
       "      <td>3</td>\n",
       "      <td>3.5</td>\n",
       "      <td>2.5</td>\n",
       "      <td>8.67</td>\n",
       "      <td>1</td>\n",
       "      <td>0.80</td>\n",
       "    </tr>\n",
       "    <tr>\n",
       "      <th>4</th>\n",
       "      <td>5</td>\n",
       "      <td>314</td>\n",
       "      <td>103</td>\n",
       "      <td>2</td>\n",
       "      <td>2.0</td>\n",
       "      <td>3.0</td>\n",
       "      <td>8.21</td>\n",
       "      <td>0</td>\n",
       "      <td>0.65</td>\n",
       "    </tr>\n",
       "  </tbody>\n",
       "</table>\n",
       "</div>"
      ],
      "text/plain": [
       "   Serial No.  GRE Score  TOEFL Score  University Rating  SOP  LOR   CGPA  \\\n",
       "0           1        337          118                  4  4.5   4.5  9.65   \n",
       "1           2        324          107                  4  4.0   4.5  8.87   \n",
       "2           3        316          104                  3  3.0   3.5  8.00   \n",
       "3           4        322          110                  3  3.5   2.5  8.67   \n",
       "4           5        314          103                  2  2.0   3.0  8.21   \n",
       "\n",
       "   Research  Chance of Admit  \n",
       "0         1             0.92  \n",
       "1         1             0.76  \n",
       "2         1             0.72  \n",
       "3         1             0.80  \n",
       "4         0             0.65  "
      ]
     },
     "execution_count": 100,
     "metadata": {},
     "output_type": "execute_result"
    }
   ],
   "source": [
    "import os, types\n",
    "import pandas as pd\n",
    "from botocore.client import Config\n",
    "import ibm_boto3\n",
    "\n",
    "def __iter__(self): return 0\n",
    "\n",
    "# @hidden_cell\n",
    "# The following code accesses a file in your IBM Cloud Object Storage. It includes your credentials.\n",
    "# You might want to remove those credentials before you share the notebook.\n",
    "cos_client = ibm_boto3.client(service_name='s3',\n",
    "    ibm_api_key_id='1C63iWkwFx4eCAUqLfKg9rYoBpz63KfujUev1-ETxbkf',\n",
    "    ibm_auth_endpoint=\"https://iam.cloud.ibm.com/oidc/token\",\n",
    "    config=Config(signature_version='oauth'),\n",
    "    endpoint_url='https://s3.private.us.cloud-object-storage.appdomain.cloud')\n",
    "\n",
    "bucket = 'universityadmit-donotdelete-pr-0k8hmantti6tge'\n",
    "object_key = 'Dataset.csv'\n",
    "\n",
    "body = cos_client.get_object(Bucket=bucket,Key=object_key)['Body']\n",
    "# add missing __iter__ method, so pandas accepts body as file-like object\n",
    "if not hasattr(body, \"__iter__\"): body.__iter__ = types.MethodType( __iter__, body )\n",
    "\n",
    "df = pd.read_csv(body)\n",
    "df.head()\n"
   ]
  },
  {
   "cell_type": "markdown",
   "id": "1db23a6c",
   "metadata": {},
   "source": [
    "<h4><i>Creating a correlation matrix</i></h4>"
   ]
  },
  {
   "cell_type": "code",
   "execution_count": 101,
   "id": "10648d68",
   "metadata": {},
   "outputs": [
    {
     "data": {
      "text/html": [
       "<div>\n",
       "<style scoped>\n",
       "    .dataframe tbody tr th:only-of-type {\n",
       "        vertical-align: middle;\n",
       "    }\n",
       "\n",
       "    .dataframe tbody tr th {\n",
       "        vertical-align: top;\n",
       "    }\n",
       "\n",
       "    .dataframe thead th {\n",
       "        text-align: right;\n",
       "    }\n",
       "</style>\n",
       "<table border=\"1\" class=\"dataframe\">\n",
       "  <thead>\n",
       "    <tr style=\"text-align: right;\">\n",
       "      <th></th>\n",
       "      <th>Serial No.</th>\n",
       "      <th>GRE Score</th>\n",
       "      <th>TOEFL Score</th>\n",
       "      <th>University Rating</th>\n",
       "      <th>SOP</th>\n",
       "      <th>LOR</th>\n",
       "      <th>CGPA</th>\n",
       "      <th>Research</th>\n",
       "      <th>Chance of Admit</th>\n",
       "    </tr>\n",
       "  </thead>\n",
       "  <tbody>\n",
       "    <tr>\n",
       "      <th>Serial No.</th>\n",
       "      <td>1.000000</td>\n",
       "      <td>-0.097526</td>\n",
       "      <td>-0.147932</td>\n",
       "      <td>-0.169948</td>\n",
       "      <td>-0.166932</td>\n",
       "      <td>-0.088221</td>\n",
       "      <td>-0.045608</td>\n",
       "      <td>-0.063138</td>\n",
       "      <td>0.042336</td>\n",
       "    </tr>\n",
       "    <tr>\n",
       "      <th>GRE Score</th>\n",
       "      <td>-0.097526</td>\n",
       "      <td>1.000000</td>\n",
       "      <td>0.835977</td>\n",
       "      <td>0.668976</td>\n",
       "      <td>0.612831</td>\n",
       "      <td>0.557555</td>\n",
       "      <td>0.833060</td>\n",
       "      <td>0.580391</td>\n",
       "      <td>0.802610</td>\n",
       "    </tr>\n",
       "    <tr>\n",
       "      <th>TOEFL Score</th>\n",
       "      <td>-0.147932</td>\n",
       "      <td>0.835977</td>\n",
       "      <td>1.000000</td>\n",
       "      <td>0.695590</td>\n",
       "      <td>0.657981</td>\n",
       "      <td>0.567721</td>\n",
       "      <td>0.828417</td>\n",
       "      <td>0.489858</td>\n",
       "      <td>0.791594</td>\n",
       "    </tr>\n",
       "    <tr>\n",
       "      <th>University Rating</th>\n",
       "      <td>-0.169948</td>\n",
       "      <td>0.668976</td>\n",
       "      <td>0.695590</td>\n",
       "      <td>1.000000</td>\n",
       "      <td>0.734523</td>\n",
       "      <td>0.660123</td>\n",
       "      <td>0.746479</td>\n",
       "      <td>0.447783</td>\n",
       "      <td>0.711250</td>\n",
       "    </tr>\n",
       "    <tr>\n",
       "      <th>SOP</th>\n",
       "      <td>-0.166932</td>\n",
       "      <td>0.612831</td>\n",
       "      <td>0.657981</td>\n",
       "      <td>0.734523</td>\n",
       "      <td>1.000000</td>\n",
       "      <td>0.729593</td>\n",
       "      <td>0.718144</td>\n",
       "      <td>0.444029</td>\n",
       "      <td>0.675732</td>\n",
       "    </tr>\n",
       "    <tr>\n",
       "      <th>LOR</th>\n",
       "      <td>-0.088221</td>\n",
       "      <td>0.557555</td>\n",
       "      <td>0.567721</td>\n",
       "      <td>0.660123</td>\n",
       "      <td>0.729593</td>\n",
       "      <td>1.000000</td>\n",
       "      <td>0.670211</td>\n",
       "      <td>0.396859</td>\n",
       "      <td>0.669889</td>\n",
       "    </tr>\n",
       "    <tr>\n",
       "      <th>CGPA</th>\n",
       "      <td>-0.045608</td>\n",
       "      <td>0.833060</td>\n",
       "      <td>0.828417</td>\n",
       "      <td>0.746479</td>\n",
       "      <td>0.718144</td>\n",
       "      <td>0.670211</td>\n",
       "      <td>1.000000</td>\n",
       "      <td>0.521654</td>\n",
       "      <td>0.873289</td>\n",
       "    </tr>\n",
       "    <tr>\n",
       "      <th>Research</th>\n",
       "      <td>-0.063138</td>\n",
       "      <td>0.580391</td>\n",
       "      <td>0.489858</td>\n",
       "      <td>0.447783</td>\n",
       "      <td>0.444029</td>\n",
       "      <td>0.396859</td>\n",
       "      <td>0.521654</td>\n",
       "      <td>1.000000</td>\n",
       "      <td>0.553202</td>\n",
       "    </tr>\n",
       "    <tr>\n",
       "      <th>Chance of Admit</th>\n",
       "      <td>0.042336</td>\n",
       "      <td>0.802610</td>\n",
       "      <td>0.791594</td>\n",
       "      <td>0.711250</td>\n",
       "      <td>0.675732</td>\n",
       "      <td>0.669889</td>\n",
       "      <td>0.873289</td>\n",
       "      <td>0.553202</td>\n",
       "      <td>1.000000</td>\n",
       "    </tr>\n",
       "  </tbody>\n",
       "</table>\n",
       "</div>"
      ],
      "text/plain": [
       "                   Serial No.  GRE Score  TOEFL Score  University Rating  \\\n",
       "Serial No.           1.000000  -0.097526    -0.147932          -0.169948   \n",
       "GRE Score           -0.097526   1.000000     0.835977           0.668976   \n",
       "TOEFL Score         -0.147932   0.835977     1.000000           0.695590   \n",
       "University Rating   -0.169948   0.668976     0.695590           1.000000   \n",
       "SOP                 -0.166932   0.612831     0.657981           0.734523   \n",
       "LOR                 -0.088221   0.557555     0.567721           0.660123   \n",
       "CGPA                -0.045608   0.833060     0.828417           0.746479   \n",
       "Research            -0.063138   0.580391     0.489858           0.447783   \n",
       "Chance of Admit      0.042336   0.802610     0.791594           0.711250   \n",
       "\n",
       "                        SOP      LOR       CGPA  Research  Chance of Admit  \n",
       "Serial No.        -0.166932 -0.088221 -0.045608 -0.063138         0.042336  \n",
       "GRE Score          0.612831  0.557555  0.833060  0.580391         0.802610  \n",
       "TOEFL Score        0.657981  0.567721  0.828417  0.489858         0.791594  \n",
       "University Rating  0.734523  0.660123  0.746479  0.447783         0.711250  \n",
       "SOP                1.000000  0.729593  0.718144  0.444029         0.675732  \n",
       "LOR                0.729593  1.000000  0.670211  0.396859         0.669889  \n",
       "CGPA               0.718144  0.670211  1.000000  0.521654         0.873289  \n",
       "Research           0.444029  0.396859  0.521654  1.000000         0.553202  \n",
       "Chance of Admit    0.675732  0.669889  0.873289  0.553202         1.000000  "
      ]
     },
     "execution_count": 101,
     "metadata": {},
     "output_type": "execute_result"
    }
   ],
   "source": [
    "corr_matrix = df.corr()\n",
    "corr_matrix"
   ]
  },
  {
   "cell_type": "markdown",
   "id": "3c4f7abe",
   "metadata": {},
   "source": [
    "We create a correlation matrix to observe the effects of 'Chance of Admit'"
   ]
  },
  {
   "cell_type": "markdown",
   "id": "74b6b4fe",
   "metadata": {},
   "source": [
    "Visualizing using a heat map"
   ]
  },
  {
   "cell_type": "code",
   "execution_count": 102,
   "id": "aca05f07",
   "metadata": {},
   "outputs": [
    {
     "data": {
      "image/png": "[encoded data removed]",
      "text/plain": [
       "<Figure size 864x576 with 2 Axes>"
      ]
     },
     "metadata": {
      "needs_background": "light"
     },
     "output_type": "display_data"
    }
   ],
   "source": [
    "fig = plt.figure(figsize=(12,8))\n",
    "sns.heatmap(corr_matrix,annot=True)\n",
    "plt.show()"
   ]
  },
  {
   "cell_type": "markdown",
   "id": "0d72ac1e",
   "metadata": {},
   "source": [
    "Plotting in relplot to find which has the highest correlation"
   ]
  },
  {
   "cell_type": "code",
   "execution_count": 103,
   "id": "b8fe54b8",
   "metadata": {},
   "outputs": [
    {
     "data": {
      "image/png": "[encoded data removed]",
      "text/plain": [
       "<Figure size 413.75x360 with 1 Axes>"
      ]
     },
     "metadata": {
      "needs_background": "light"
     },
     "output_type": "display_data"
    }
   ],
   "source": [
    "sns.relplot(data=df,x=\"GRE Score\",y=\"Chance of Admit\",hue=\"Research\",palette=\"Set3\",alpha=0.7)\n",
    "plt.title(\"GRE Score vs Chance of Admit\")\n",
    "plt.show()"
   ]
  },
  {
   "cell_type": "code",
   "execution_count": 104,
   "id": "99bf4b30",
   "metadata": {},
   "outputs": [
    {
     "data": {
      "image/png": "[encoded data removed]",
      "text/plain": [
       "<Figure size 413.75x360 with 1 Axes>"
      ]
     },
     "metadata": {
      "needs_background": "light"
     },
     "output_type": "display_data"
    }
   ],
   "source": [
    "sns.relplot(data=df,x=\"TOEFL Score\",y=\"Chance of Admit\",hue=\"Research\",palette=\"Set2\",alpha=0.7,kind=\"line\",ci=None)\n",
    "plt.title(\"TOEFL Score vs Chance of Admit\")\n",
    "plt.show()"
   ]
  },
  {
   "cell_type": "code",
   "execution_count": 105,
   "id": "391c1e73",
   "metadata": {},
   "outputs": [
    {
     "data": {
      "image/png": "[encoded data removed]",
      "text/plain": [
       "<Figure size 413.75x360 with 1 Axes>"
      ]
     },
     "metadata": {
      "needs_background": "light"
     },
     "output_type": "display_data"
    }
   ],
   "source": [
    "sns.relplot(data=df,x=\"CGPA\",y=\"Chance of Admit\",hue=\"Research\",palette=\"Set1\",alpha=0.7)\n",
    "plt.title(\"CGPA vs Chance of Admit\")\n",
    "plt.show()"
   ]
  },
  {
   "cell_type": "code",
   "execution_count": 106,
   "id": "8dd8bfc3",
   "metadata": {},
   "outputs": [
    {
     "data": {
      "image/png": "[encoded data removed]",
      "text/plain": [
       "<Figure size 432x288 with 1 Axes>"
      ]
     },
     "metadata": {
      "needs_background": "light"
     },
     "output_type": "display_data"
    }
   ],
   "source": [
    "sns.barplot(data=df,x=\"SOP\",y=\"Chance of Admit\",palette=\"Set3\",hue=\"Research\")\n",
    "plt.title(\"SOP vs Chance of Admit\")\n",
    "plt.show()"
   ]
  },
  {
   "cell_type": "code",
   "execution_count": 107,
   "id": "791ae8a6",
   "metadata": {},
   "outputs": [
    {
     "data": {
      "image/png": "[encoded data removed]",
      "text/plain": [
       "<Figure size 432x288 with 1 Axes>"
      ]
     },
     "metadata": {
      "needs_background": "light"
     },
     "output_type": "display_data"
    }
   ],
   "source": [
    "sns.barplot(data=df,x=\"LOR \",y=\"Chance of Admit\",palette=\"Set1\",hue=\"Research\")\n",
    "plt.title(\"LOR vs Chance of Admit\")\n",
    "plt.show()"
   ]
  },
  {
   "cell_type": "code",
   "execution_count": 108,
   "id": "6e731071",
   "metadata": {},
   "outputs": [
    {
     "data": {
      "image/png": "[encoded data removed]",
      "text/plain": [
       "<Figure size 432x288 with 1 Axes>"
      ]
     },
     "metadata": {
      "needs_background": "light"
     },
     "output_type": "display_data"
    }
   ],
   "source": [
    "sns.barplot(data=df,x=\"University Rating\",y=\"Chance of Admit\",palette=\"Set3\")\n",
    "plt.title(\"University Rating vs Chance of Admit\")\n",
    "plt.show()"
   ]
  },
  {
   "cell_type": "markdown",
   "id": "2ae9424e",
   "metadata": {},
   "source": [
    "As linear relationship between them are observed, linear regression method can be used. The 'Chance of Admit' is depended on more than one data it is more appropriate to apply multiple linear regression than single linear regression"
   ]
  },
  {
   "cell_type": "markdown",
   "id": "0e042e79",
   "metadata": {},
   "source": [
    "<h4><i>Importing the required libraries for regression analyzes</i></h4>"
   ]
  },
  {
   "cell_type": "code",
   "execution_count": 109,
   "id": "1ceba761",
   "metadata": {},
   "outputs": [],
   "source": [
    "from sklearn.model_selection import train_test_split\n",
    "from sklearn.linear_model import LinearRegression\n",
    "from sklearn.tree import DecisionTreeRegressor\n",
    "from sklearn.ensemble import RandomForestRegressor\n",
    "from sklearn.metrics import r2_score"
   ]
  },
  {
   "cell_type": "markdown",
   "id": "b4c196e7",
   "metadata": {},
   "source": [
    "<h4><i>Spliting the dataset into training and testing data</i></h4>"
   ]
  },
  {
   "cell_type": "code",
   "execution_count": 110,
   "id": "63b7ff3f",
   "metadata": {},
   "outputs": [],
   "source": [
    "x = df[[\"GRE Score\",\"TOEFL Score\",\"University Rating\",\"SOP\",\"LOR \",\"CGPA\", \"Research\"]]\n",
    "y = df[\"Chance of Admit\"].values.reshape(-1,1)\n",
    "\n",
    "x_train, x_test, y_train, y_test = train_test_split(x,y,test_size=0.2,random_state=42)"
   ]
  },
  {
   "cell_type": "markdown",
   "id": "78fe17de",
   "metadata": {},
   "source": [
    "<h4><i>Multiple Linear Regression</i></h4>"
   ]
  },
  {
   "cell_type": "code",
   "execution_count": 111,
   "id": "e3fea27c",
   "metadata": {},
   "outputs": [
    {
     "name": "stdout",
     "output_type": "stream",
     "text": [
      "Mutiple Linear Regression's Score = 0.821\n"
     ]
    }
   ],
   "source": [
    "multiple_lin_reg = LinearRegression()\n",
    "multiple_lin_reg.fit(x_train,y_train)\n",
    "\n",
    "y_pred_mlr = multiple_lin_reg.predict(x_test)\n",
    "\n",
    "r2_score_mlr = r2_score(y_test,y_pred_mlr)\n",
    "print(\"Mutiple Linear Regression's Score = {:.3f}\".format(r2_score_mlr))"
   ]
  },
  {
   "cell_type": "markdown",
   "id": "36ba4ff4",
   "metadata": {},
   "source": [
    "<h4><i>Decision Tree Regression</i></h4>"
   ]
  },
  {
   "cell_type": "code",
   "execution_count": 112,
   "id": "ccc54a47",
   "metadata": {},
   "outputs": [
    {
     "name": "stdout",
     "output_type": "stream",
     "text": [
      "Decision Tree Regression's Score = 0.661\n"
     ]
    }
   ],
   "source": [
    "tree_reg = DecisionTreeRegressor()\n",
    "tree_reg.fit(x_train,y_train)\n",
    "\n",
    "y_pred_tree = tree_reg.predict(x_test)\n",
    "\n",
    "r2_score_tree = r2_score(y_test,y_pred_tree)\n",
    "print(\"Decision Tree Regression's Score = {:.3f}\".format(r2_score_tree))"
   ]
  },
  {
   "cell_type": "markdown",
   "id": "a704b6e0",
   "metadata": {},
   "source": [
    "<h4><i>Random Tree Regression</i></h4>"
   ]
  },
  {
   "cell_type": "code",
   "execution_count": 113,
   "id": "d8d46d64",
   "metadata": {},
   "outputs": [
    {
     "name": "stdout",
     "output_type": "stream",
     "text": [
      "Random Forest Regression's Score = 0.807\n"
     ]
    }
   ],
   "source": [
    "ran_for_reg = RandomForestRegressor(n_estimators=100,random_state=42)\n",
    "ran_for_reg.fit(x_train,y_train)\n",
    "\n",
    "y_pred_rfr = ran_for_reg.predict(x_test)\n",
    "\n",
    "r2_score_rfr = r2_score(y_test,y_pred_rfr)\n",
    "print(\"Random Forest Regression's Score = {:.3f}\".format(r2_score_rfr))"
   ]
  },
  {
   "cell_type": "markdown",
   "id": "a91b2f18",
   "metadata": {},
   "source": [
    "<h4><i>Conclusion</i></h4>"
   ]
  },
  {
   "cell_type": "markdown",
   "id": "c1c2aba1",
   "metadata": {},
   "source": [
    "r2_score represents the accuracy of the regression models. As the accuracy of the multiple linear regression is close to 1, it is better than decision tree regression and random tree regression"
   ]
  },
  {
   "cell_type": "markdown",
   "id": "52b07b3d",
   "metadata": {},
   "source": [
    "<h4><i>Deploying using ML Service</i></h4>"
   ]
  },
  {
   "cell_type": "code",
   "execution_count": 114,
   "id": "7784f02a",
   "metadata": {},
   "outputs": [
    {
     "name": "stdout",
     "output_type": "stream",
     "text": [
      "Requirement already satisfied: ibm_watson_machine_learning in /opt/conda/envs/Python-3.9/lib/python3.9/site-packages (1.0.257)\n",
      "Requirement already satisfied: pandas<1.5.0,>=0.24.2 in /opt/conda/envs/Python-3.9/lib/python3.9/site-packages (from ibm_watson_machine_learning) (1.3.4)\n",
      "Requirement already satisfied: packaging in /opt/conda/envs/Python-3.9/lib/python3.9/site-packages (from ibm_watson_machine_learning) (21.3)\n",
      "Requirement already satisfied: lomond in /opt/conda/envs/Python-3.9/lib/python3.9/site-packages (from ibm_watson_machine_learning) (0.3.3)\n",
      "Requirement already satisfied: certifi in /opt/conda/envs/Python-3.9/lib/python3.9/site-packages (from ibm_watson_machine_learning) (2022.9.24)\n",
      "Requirement already satisfied: tabulate in /opt/conda/envs/Python-3.9/lib/python3.9/site-packages (from ibm_watson_machine_learning) (0.8.9)\n",
      "Requirement already satisfied: requests in /opt/conda/envs/Python-3.9/lib/python3.9/site-packages (from ibm_watson_machine_learning) (2.26.0)\n",
      "Requirement already satisfied: urllib3 in /opt/conda/envs/Python-3.9/lib/python3.9/site-packages (from ibm_watson_machine_learning) (1.26.7)\n",
      "Requirement already satisfied: importlib-metadata in /opt/conda/envs/Python-3.9/lib/python3.9/site-packages (from ibm_watson_machine_learning) (4.8.2)\n",
      "Requirement already satisfied: ibm-cos-sdk==2.11.* in /opt/conda/envs/Python-3.9/lib/python3.9/site-packages (from ibm_watson_machine_learning) (2.11.0)\n",
      "Requirement already satisfied: jmespath<1.0.0,>=0.7.1 in /opt/conda/envs/Python-3.9/lib/python3.9/site-packages (from ibm-cos-sdk==2.11.*->ibm_watson_machine_learning) (0.10.0)\n",
      "Requirement already satisfied: ibm-cos-sdk-core==2.11.0 in /opt/conda/envs/Python-3.9/lib/python3.9/site-packages (from ibm-cos-sdk==2.11.*->ibm_watson_machine_learning) (2.11.0)\n",
      "Requirement already satisfied: ibm-cos-sdk-s3transfer==2.11.0 in /opt/conda/envs/Python-3.9/lib/python3.9/site-packages (from ibm-cos-sdk==2.11.*->ibm_watson_machine_learning) (2.11.0)\n",
      "Requirement already satisfied: python-dateutil<3.0.0,>=2.1 in /opt/conda/envs/Python-3.9/lib/python3.9/site-packages (from ibm-cos-sdk-core==2.11.0->ibm-cos-sdk==2.11.*->ibm_watson_machine_learning) (2.8.2)\n",
      "Requirement already satisfied: pytz>=2017.3 in /opt/conda/envs/Python-3.9/lib/python3.9/site-packages (from pandas<1.5.0,>=0.24.2->ibm_watson_machine_learning) (2021.3)\n",
      "Requirement already satisfied: numpy>=1.17.3 in /opt/conda/envs/Python-3.9/lib/python3.9/site-packages (from pandas<1.5.0,>=0.24.2->ibm_watson_machine_learning) (1.20.3)\n",
      "Requirement already satisfied: six>=1.5 in /opt/conda/envs/Python-3.9/lib/python3.9/site-packages (from python-dateutil<3.0.0,>=2.1->ibm-cos-sdk-core==2.11.0->ibm-cos-sdk==2.11.*->ibm_watson_machine_learning) (1.15.0)\n",
      "Requirement already satisfied: idna<4,>=2.5 in /opt/conda/envs/Python-3.9/lib/python3.9/site-packages (from requests->ibm_watson_machine_learning) (3.3)\n",
      "Requirement already satisfied: charset-normalizer~=2.0.0 in /opt/conda/envs/Python-3.9/lib/python3.9/site-packages (from requests->ibm_watson_machine_learning) (2.0.4)\n",
      "Requirement already satisfied: zipp>=0.5 in /opt/conda/envs/Python-3.9/lib/python3.9/site-packages (from importlib-metadata->ibm_watson_machine_learning) (3.6.0)\n",
      "Requirement already satisfied: pyparsing!=3.0.5,>=2.0.2 in /opt/conda/envs/Python-3.9/lib/python3.9/site-packages (from packaging->ibm_watson_machine_learning) (3.0.4)\n"
     ]
    }
   ],
   "source": [
    "!pip install ibm_watson_machine_learning"
   ]
  },
  {
   "cell_type": "code",
   "execution_count": 115,
   "id": "b562225c",
   "metadata": {},
   "outputs": [],
   "source": [
    "from ibm_watson_machine_learning import APIClient\n",
    "wml_credentials = {\n",
    "    \"url\": \"https://us-south.ml.cloud.ibm.com\",\n",
    "    \"apikey\": \"CB8dTF8Y0_o4amdiEL2FfNBLZ-EdGUGdLqrDk7Z2gzDP\"\n",
    "}\n",
    "\n",
    "client = APIClient(wml_credentials)"
   ]
  },
  {
   "cell_type": "markdown",
   "id": "9d1d6195",
   "metadata": {},
   "source": [
    "<h4><i>Creating Deployment Space</i></h4>"
   ]
  },
  {
   "cell_type": "code",
   "execution_count": 116,
   "id": "a80a0493",
   "metadata": {},
   "outputs": [],
   "source": [
    "def guid_from_space_name(client, space_name):\n",
    "    space = client.spaces.get_details()\n",
    "    return (next(item for item in space['resources'] if item['entity']['name'] == space_name)['metadata']['id'])"
   ]
  },
  {
   "cell_type": "code",
   "execution_count": 117,
   "id": "56748fe9",
   "metadata": {},
   "outputs": [
    {
     "name": "stdout",
     "output_type": "stream",
     "text": [
      "Space UID = fccf9bb0-2d96-46c9-a5f0-c7026edf7ad3\n"
     ]
    }
   ],
   "source": [
    "space_uid = guid_from_space_name(client, 'Regression-Models')\n",
    "print(\"Space UID = \" + space_uid)"
   ]
  },
  {
   "cell_type": "code",
   "execution_count": 118,
   "id": "980ceefb",
   "metadata": {},
   "outputs": [
    {
     "data": {
      "text/plain": [
       "'SUCCESS'"
      ]
     },
     "execution_count": 118,
     "metadata": {},
     "output_type": "execute_result"
    }
   ],
   "source": [
    "client.set.default_space(space_uid)"
   ]
  },
  {
   "cell_type": "code",
   "execution_count": 119,
   "id": "45eddd17",
   "metadata": {},
   "outputs": [
    {
     "name": "stdout",
     "output_type": "stream",
     "text": [
      "-----------------------------  ------------------------------------  ----\n",
      "NAME                           ASSET_ID                              TYPE\n",
      "default_py3.6                  0062b8c9-8b7d-44a0-a9b9-46c416adcbd9  base\n",
      "kernel-spark3.2-scala2.12      020d69ce-7ac1-5e68-ac1a-31189867356a  base\n",
      "pytorch-onnx_1.3-py3.7-edt     069ea134-3346-5748-b513-49120e15d288  base\n",
      "scikit-learn_0.20-py3.6        09c5a1d0-9c1e-4473-a344-eb7b665ff687  base\n",
      "spark-mllib_3.0-scala_2.12     09f4cff0-90a7-5899-b9ed-1ef348aebdee  base\n",
      "pytorch-onnx_rt22.1-py3.9      0b848dd4-e681-5599-be41-b5f6fccc6471  base\n",
      "ai-function_0.1-py3.6          0cdb0f1e-5376-4f4d-92dd-da3b69aa9bda  base\n",
      "shiny-r3.6                     0e6e79df-875e-4f24-8ae9-62dcc2148306  base\n",
      "tensorflow_2.4-py3.7-horovod   1092590a-307d-563d-9b62-4eb7d64b3f22  base\n",
      "pytorch_1.1-py3.6              10ac12d6-6b30-4ccd-8392-3e922c096a92  base\n",
      "tensorflow_1.15-py3.6-ddl      111e41b3-de2d-5422-a4d6-bf776828c4b7  base\n",
      "autoai-kb_rt22.2-py3.10        125b6d9a-5b1f-5e8d-972a-b251688ccf40  base\n",
      "runtime-22.1-py3.9             12b83a17-24d8-5082-900f-0ab31fbfd3cb  base\n",
      "scikit-learn_0.22-py3.6        154010fa-5b3b-4ac1-82af-4d5ee5abbc85  base\n",
      "default_r3.6                   1b70aec3-ab34-4b87-8aa0-a4a3c8296a36  base\n",
      "pytorch-onnx_1.3-py3.6         1bc6029a-cc97-56da-b8e0-39c3880dbbe7  base\n",
      "kernel-spark3.3-r3.6           1c9e5454-f216-59dd-a20e-474a5cdf5988  base\n",
      "pytorch-onnx_rt22.1-py3.9-edt  1d362186-7ad5-5b59-8b6c-9d0880bde37f  base\n",
      "tensorflow_2.1-py3.6           1eb25b84-d6ed-5dde-b6a5-3fbdf1665666  base\n",
      "spark-mllib_3.2                20047f72-0a98-58c7-9ff5-a77b012eb8f5  base\n",
      "tensorflow_2.4-py3.8-horovod   217c16f6-178f-56bf-824a-b19f20564c49  base\n",
      "runtime-22.1-py3.9-cuda        26215f05-08c3-5a41-a1b0-da66306ce658  base\n",
      "do_py3.8                       295addb5-9ef9-547e-9bf4-92ae3563e720  base\n",
      "autoai-ts_3.8-py3.8            2aa0c932-798f-5ae9-abd6-15e0c2402fb5  base\n",
      "tensorflow_1.15-py3.6          2b73a275-7cbf-420b-a912-eae7f436e0bc  base\n",
      "kernel-spark3.3-py3.9          2b7961e2-e3b1-5a8c-a491-482c8368839a  base\n",
      "pytorch_1.2-py3.6              2c8ef57d-2687-4b7d-acce-01f94976dac1  base\n",
      "spark-mllib_2.3                2e51f700-bca0-4b0d-88dc-5c6791338875  base\n",
      "pytorch-onnx_1.1-py3.6-edt     32983cea-3f32-4400-8965-dde874a8d67e  base\n",
      "spark-mllib_3.0-py37           36507ebe-8770-55ba-ab2a-eafe787600e9  base\n",
      "spark-mllib_2.4                390d21f8-e58b-4fac-9c55-d7ceda621326  base\n",
      "autoai-ts_rt22.2-py3.10        396b2e83-0953-5b86-9a55-7ce1628a406f  base\n",
      "xgboost_0.82-py3.6             39e31acd-5f30-41dc-ae44-60233c80306e  base\n",
      "pytorch-onnx_1.2-py3.6-edt     40589d0e-7019-4e28-8daa-fb03b6f4fe12  base\n",
      "pytorch-onnx_rt22.2-py3.10     40e73f55-783a-5535-b3fa-0c8b94291431  base\n",
      "default_r36py38                41c247d3-45f8-5a71-b065-8580229facf0  base\n",
      "autoai-ts_rt22.1-py3.9         4269d26e-07ba-5d40-8f66-2d495b0c71f7  base\n",
      "autoai-obm_3.0                 42b92e18-d9ab-567f-988a-4240ba1ed5f7  base\n",
      "pmml-3.0_4.3                   493bcb95-16f1-5bc5-bee8-81b8af80e9c7  base\n",
      "spark-mllib_2.4-r_3.6          49403dff-92e9-4c87-a3d7-a42d0021c095  base\n",
      "xgboost_0.90-py3.6             4ff8d6c2-1343-4c18-85e1-689c965304d3  base\n",
      "pytorch-onnx_1.1-py3.6         50f95b2a-bc16-43bb-bc94-b0bed208c60b  base\n",
      "autoai-ts_3.9-py3.8            52c57136-80fa-572e-8728-a5e7cbb42cde  base\n",
      "spark-mllib_2.4-scala_2.11     55a70f99-7320-4be5-9fb9-9edb5a443af5  base\n",
      "spark-mllib_3.0                5c1b0ca2-4977-5c2e-9439-ffd44ea8ffe9  base\n",
      "autoai-obm_2.0                 5c2e37fa-80b8-5e77-840f-d912469614ee  base\n",
      "spss-modeler_18.1              5c3cad7e-507f-4b2a-a9a3-ab53a21dee8b  base\n",
      "cuda-py3.8                     5d3232bf-c86b-5df4-a2cd-7bb870a1cd4e  base\n",
      "runtime-22.2-py3.10-xc         5e8cddff-db4a-5a6a-b8aa-2d4af9864dab  base\n",
      "autoai-kb_3.1-py3.7            632d4b22-10aa-5180-88f0-f52dfb6444d7  base\n",
      "-----------------------------  ------------------------------------  ----\n",
      "Note: Only first 50 records were displayed. To display more use 'limit' parameter.\n"
     ]
    }
   ],
   "source": [
    "client.software_specifications.list()"
   ]
  },
  {
   "cell_type": "markdown",
   "id": "7b8697a0",
   "metadata": {},
   "source": [
    "<h4><i>Deploying the model in IBM cloud using Multiple Regression Model </i></h4>"
   ]
  },
  {
   "cell_type": "code",
   "execution_count": 120,
   "id": "2de09caf",
   "metadata": {},
   "outputs": [
    {
     "data": {
      "text/plain": [
       "'12b83a17-24d8-5082-900f-0ab31fbfd3cb'"
      ]
     },
     "execution_count": 120,
     "metadata": {},
     "output_type": "execute_result"
    }
   ],
   "source": [
    "software_spec_uid = client.software_specifications.get_uid_by_name(\"runtime-22.1-py3.9\")\n",
    "software_spec_uid"
   ]
  },
  {
   "cell_type": "code",
   "execution_count": 121,
   "id": "e2fcb6a4",
   "metadata": {},
   "outputs": [
    {
     "data": {
      "text/plain": [
       "'a4adbc4c-08b4-4894-af1e-32f923a35747'"
      ]
     },
     "execution_count": 121,
     "metadata": {},
     "output_type": "execute_result"
    }
   ],
   "source": [
    "model_details = client.repository.store_model(model = multiple_lin_reg, meta_props={\n",
    "    client.repository.ModelMetaNames.NAME: \"UAEP_Multiple_Linear_Regression\",\n",
    "    client.repository.ModelMetaNames.TYPE: \"scikit-learn_1.0\",\n",
    "    client.repository.ModelMetaNames.SOFTWARE_SPEC_UID: software_spec_uid\n",
    "}\n",
    ")\n",
    "\n",
    "model_id = client.repository.get_model_id(model_details)\n",
    "model_id"
   ]
  },
  {
   "cell_type": "markdown",
   "id": "0d91c7fa",
   "metadata": {},
   "source": [
    "<h4><i>Testing</i></h4>"
   ]
  },
  {
   "cell_type": "code",
   "execution_count": 122,
   "id": "d385facf",
   "metadata": {},
   "outputs": [
    {
     "data": {
      "text/html": [
       "<div>\n",
       "<style scoped>\n",
       "    .dataframe tbody tr th:only-of-type {\n",
       "        vertical-align: middle;\n",
       "    }\n",
       "\n",
       "    .dataframe tbody tr th {\n",
       "        vertical-align: top;\n",
       "    }\n",
       "\n",
       "    .dataframe thead th {\n",
       "        text-align: right;\n",
       "    }\n",
       "</style>\n",
       "<table border=\"1\" class=\"dataframe\">\n",
       "  <thead>\n",
       "    <tr style=\"text-align: right;\">\n",
       "      <th></th>\n",
       "      <th>GRE Score</th>\n",
       "      <th>TOEFL Score</th>\n",
       "      <th>University Rating</th>\n",
       "      <th>SOP</th>\n",
       "      <th>LOR</th>\n",
       "      <th>CGPA</th>\n",
       "      <th>Research</th>\n",
       "    </tr>\n",
       "  </thead>\n",
       "  <tbody>\n",
       "    <tr>\n",
       "      <th>3</th>\n",
       "      <td>322</td>\n",
       "      <td>110</td>\n",
       "      <td>3</td>\n",
       "      <td>3.5</td>\n",
       "      <td>2.5</td>\n",
       "      <td>8.67</td>\n",
       "      <td>1</td>\n",
       "    </tr>\n",
       "    <tr>\n",
       "      <th>18</th>\n",
       "      <td>318</td>\n",
       "      <td>110</td>\n",
       "      <td>3</td>\n",
       "      <td>4.0</td>\n",
       "      <td>3.0</td>\n",
       "      <td>8.80</td>\n",
       "      <td>0</td>\n",
       "    </tr>\n",
       "    <tr>\n",
       "      <th>202</th>\n",
       "      <td>340</td>\n",
       "      <td>120</td>\n",
       "      <td>5</td>\n",
       "      <td>4.5</td>\n",
       "      <td>4.5</td>\n",
       "      <td>9.91</td>\n",
       "      <td>1</td>\n",
       "    </tr>\n",
       "    <tr>\n",
       "      <th>250</th>\n",
       "      <td>320</td>\n",
       "      <td>104</td>\n",
       "      <td>3</td>\n",
       "      <td>3.0</td>\n",
       "      <td>2.5</td>\n",
       "      <td>8.57</td>\n",
       "      <td>1</td>\n",
       "    </tr>\n",
       "    <tr>\n",
       "      <th>274</th>\n",
       "      <td>315</td>\n",
       "      <td>100</td>\n",
       "      <td>1</td>\n",
       "      <td>2.0</td>\n",
       "      <td>2.5</td>\n",
       "      <td>7.95</td>\n",
       "      <td>0</td>\n",
       "    </tr>\n",
       "    <tr>\n",
       "      <th>...</th>\n",
       "      <td>...</td>\n",
       "      <td>...</td>\n",
       "      <td>...</td>\n",
       "      <td>...</td>\n",
       "      <td>...</td>\n",
       "      <td>...</td>\n",
       "      <td>...</td>\n",
       "    </tr>\n",
       "    <tr>\n",
       "      <th>71</th>\n",
       "      <td>336</td>\n",
       "      <td>112</td>\n",
       "      <td>5</td>\n",
       "      <td>5.0</td>\n",
       "      <td>5.0</td>\n",
       "      <td>9.76</td>\n",
       "      <td>1</td>\n",
       "    </tr>\n",
       "    <tr>\n",
       "      <th>106</th>\n",
       "      <td>329</td>\n",
       "      <td>111</td>\n",
       "      <td>4</td>\n",
       "      <td>4.5</td>\n",
       "      <td>4.5</td>\n",
       "      <td>9.18</td>\n",
       "      <td>1</td>\n",
       "    </tr>\n",
       "    <tr>\n",
       "      <th>270</th>\n",
       "      <td>306</td>\n",
       "      <td>105</td>\n",
       "      <td>2</td>\n",
       "      <td>2.5</td>\n",
       "      <td>3.0</td>\n",
       "      <td>8.22</td>\n",
       "      <td>1</td>\n",
       "    </tr>\n",
       "    <tr>\n",
       "      <th>348</th>\n",
       "      <td>302</td>\n",
       "      <td>99</td>\n",
       "      <td>1</td>\n",
       "      <td>2.0</td>\n",
       "      <td>2.0</td>\n",
       "      <td>7.25</td>\n",
       "      <td>0</td>\n",
       "    </tr>\n",
       "    <tr>\n",
       "      <th>102</th>\n",
       "      <td>314</td>\n",
       "      <td>106</td>\n",
       "      <td>2</td>\n",
       "      <td>4.0</td>\n",
       "      <td>3.5</td>\n",
       "      <td>8.25</td>\n",
       "      <td>0</td>\n",
       "    </tr>\n",
       "  </tbody>\n",
       "</table>\n",
       "<p>320 rows × 7 columns</p>\n",
       "</div>"
      ],
      "text/plain": [
       "     GRE Score  TOEFL Score  University Rating  SOP  LOR   CGPA  Research\n",
       "3          322          110                  3  3.5   2.5  8.67         1\n",
       "18         318          110                  3  4.0   3.0  8.80         0\n",
       "202        340          120                  5  4.5   4.5  9.91         1\n",
       "250        320          104                  3  3.0   2.5  8.57         1\n",
       "274        315          100                  1  2.0   2.5  7.95         0\n",
       "..         ...          ...                ...  ...   ...   ...       ...\n",
       "71         336          112                  5  5.0   5.0  9.76         1\n",
       "106        329          111                  4  4.5   4.5  9.18         1\n",
       "270        306          105                  2  2.5   3.0  8.22         1\n",
       "348        302           99                  1  2.0   2.0  7.25         0\n",
       "102        314          106                  2  4.0   3.5  8.25         0\n",
       "\n",
       "[320 rows x 7 columns]"
      ]
     },
     "execution_count": 122,
     "metadata": {},
     "output_type": "execute_result"
    }
   ],
   "source": [
    "x_train"
   ]
  },
  {
   "cell_type": "code",
   "execution_count": 123,
   "id": "f1227678",
   "metadata": {},
   "outputs": [
    {
     "data": {
      "text/plain": [
       "array([[0.74604196],\n",
       "       [0.73901061],\n",
       "       [0.99499641],\n",
       "       [0.71465428],\n",
       "       [0.58666289],\n",
       "       [0.70570088],\n",
       "       [0.79635618],\n",
       "       [0.72390065],\n",
       "       [0.91430317],\n",
       "       [0.65782685],\n",
       "       [0.60293691],\n",
       "       [0.84357917],\n",
       "       [0.49457813],\n",
       "       [0.72066904],\n",
       "       [0.61590143],\n",
       "       [0.63303675],\n",
       "       [0.73458027],\n",
       "       [0.77284896],\n",
       "       [0.54224384],\n",
       "       [0.7740777 ],\n",
       "       [0.67388358],\n",
       "       [0.68770413],\n",
       "       [0.71751013],\n",
       "       [0.79218791],\n",
       "       [0.74689676],\n",
       "       [0.60135562],\n",
       "       [0.6550291 ],\n",
       "       [0.65024192],\n",
       "       [0.64937148],\n",
       "       [0.61847543],\n",
       "       [0.71837168],\n",
       "       [0.62572932],\n",
       "       [0.56180503],\n",
       "       [0.58932197],\n",
       "       [0.82917531],\n",
       "       [0.60765804],\n",
       "       [0.45309083],\n",
       "       [0.88506537],\n",
       "       [0.772133  ],\n",
       "       [0.81857796],\n",
       "       [0.62930747],\n",
       "       [0.705755  ],\n",
       "       [0.6604701 ],\n",
       "       [0.44720981],\n",
       "       [0.9565852 ],\n",
       "       [0.79082941],\n",
       "       [0.7826623 ],\n",
       "       [0.65632426],\n",
       "       [0.6477194 ],\n",
       "       [0.8045823 ],\n",
       "       [0.84099099],\n",
       "       [0.74010959],\n",
       "       [0.78838667],\n",
       "       [0.77642522],\n",
       "       [0.78917766],\n",
       "       [0.72812151],\n",
       "       [0.80688713],\n",
       "       [0.68670226],\n",
       "       [0.80746179],\n",
       "       [0.82580413],\n",
       "       [0.65525331],\n",
       "       [0.76625765],\n",
       "       [0.55463779],\n",
       "       [0.712791  ],\n",
       "       [0.62615089],\n",
       "       [0.9370158 ],\n",
       "       [0.62973414],\n",
       "       [0.7734889 ],\n",
       "       [0.79633318],\n",
       "       [0.64020192],\n",
       "       [0.71136299],\n",
       "       [0.73601668],\n",
       "       [0.78718114],\n",
       "       [0.89732183],\n",
       "       [0.73342943],\n",
       "       [0.8260149 ],\n",
       "       [0.69121158],\n",
       "       [0.94834335],\n",
       "       [0.54704239],\n",
       "       [0.72239298],\n",
       "       [0.54302237],\n",
       "       [0.62343027],\n",
       "       [0.89165208],\n",
       "       [0.57357611],\n",
       "       [0.60371562],\n",
       "       [0.76531839],\n",
       "       [0.48764043],\n",
       "       [0.69615544],\n",
       "       [0.82287267],\n",
       "       [0.73743612],\n",
       "       [0.57340347],\n",
       "       [0.85776341],\n",
       "       [0.65646152],\n",
       "       [0.59060359],\n",
       "       [0.98088053],\n",
       "       [0.57175936],\n",
       "       [0.84680447],\n",
       "       [0.66693128],\n",
       "       [0.82259164],\n",
       "       [0.95687077],\n",
       "       [0.54755093],\n",
       "       [0.79887009],\n",
       "       [0.66298554],\n",
       "       [0.57169085],\n",
       "       [0.73164856],\n",
       "       [0.69071233],\n",
       "       [0.65559408],\n",
       "       [0.67595065],\n",
       "       [0.56317445],\n",
       "       [0.70127205],\n",
       "       [0.68500742],\n",
       "       [0.67581088],\n",
       "       [0.82072014],\n",
       "       [0.68669281],\n",
       "       [0.73213405],\n",
       "       [0.70319677],\n",
       "       [0.93193328],\n",
       "       [0.53069918],\n",
       "       [0.74769249],\n",
       "       [0.70785035],\n",
       "       [0.74733082],\n",
       "       [0.98726608],\n",
       "       [0.78145491],\n",
       "       [0.84170522],\n",
       "       [0.74590629],\n",
       "       [0.92003549],\n",
       "       [0.51212961],\n",
       "       [0.83469058],\n",
       "       [0.84738399],\n",
       "       [0.85260519],\n",
       "       [0.78021136],\n",
       "       [0.67668762],\n",
       "       [0.6362516 ],\n",
       "       [0.54116212],\n",
       "       [0.71122285],\n",
       "       [0.51693936],\n",
       "       [0.51729877],\n",
       "       [0.69064366],\n",
       "       [0.95679814],\n",
       "       [0.85353236],\n",
       "       [0.90756304],\n",
       "       [0.8315308 ],\n",
       "       [0.93831407],\n",
       "       [0.68411304],\n",
       "       [0.76696141],\n",
       "       [0.73256876],\n",
       "       [0.64420508],\n",
       "       [0.83354182],\n",
       "       [0.65761306],\n",
       "       [0.67424462],\n",
       "       [0.79384988],\n",
       "       [0.88047251],\n",
       "       [0.88349   ],\n",
       "       [0.76623061],\n",
       "       [0.94511734],\n",
       "       [0.60953798],\n",
       "       [0.61296318],\n",
       "       [0.78188112],\n",
       "       [0.52446465],\n",
       "       [0.70046981],\n",
       "       [0.66149616],\n",
       "       [0.7428962 ],\n",
       "       [0.76396597],\n",
       "       [0.67144677],\n",
       "       [0.4997304 ],\n",
       "       [0.88493113],\n",
       "       [0.73415102],\n",
       "       [0.9244145 ],\n",
       "       [0.78890557],\n",
       "       [0.70906398],\n",
       "       [0.78988742],\n",
       "       [0.70470082],\n",
       "       [0.67818156],\n",
       "       [0.5660967 ],\n",
       "       [0.88348907],\n",
       "       [0.51787033],\n",
       "       [0.7866648 ],\n",
       "       [0.72086983],\n",
       "       [0.78159076],\n",
       "       [0.73759017],\n",
       "       [0.53966551],\n",
       "       [0.8507437 ],\n",
       "       [0.85683299],\n",
       "       [0.4364599 ],\n",
       "       [0.63934765],\n",
       "       [0.89509701],\n",
       "       [0.75980528],\n",
       "       [0.48276044],\n",
       "       [0.72368161],\n",
       "       [0.5758404 ],\n",
       "       [0.62086302],\n",
       "       [0.53077697],\n",
       "       [0.86844595],\n",
       "       [0.65366715],\n",
       "       [0.63926474],\n",
       "       [0.66026926],\n",
       "       [0.74991828],\n",
       "       [0.59188251],\n",
       "       [0.83110496],\n",
       "       [0.63375168],\n",
       "       [0.638048  ],\n",
       "       [0.68053711],\n",
       "       [0.56221734],\n",
       "       [0.72956062],\n",
       "       [0.68506546],\n",
       "       [0.77958247],\n",
       "       [0.96418179],\n",
       "       [0.87947456],\n",
       "       [0.89302048],\n",
       "       [0.90226215],\n",
       "       [0.62520833],\n",
       "       [0.93621752],\n",
       "       [0.92040441],\n",
       "       [0.68155286],\n",
       "       [0.71093448],\n",
       "       [0.7877531 ],\n",
       "       [0.5277026 ],\n",
       "       [0.79384931],\n",
       "       [0.71981093],\n",
       "       [0.83274098],\n",
       "       [0.77907086],\n",
       "       [0.70217892],\n",
       "       [0.62600654],\n",
       "       [0.81706341],\n",
       "       [0.64565789],\n",
       "       [0.77091793],\n",
       "       [0.81613224],\n",
       "       [0.55786086],\n",
       "       [0.75148282],\n",
       "       [0.60479449],\n",
       "       [0.64743261],\n",
       "       [0.6597572 ],\n",
       "       [0.65102361],\n",
       "       [0.71967448],\n",
       "       [0.60723653],\n",
       "       [0.85776933],\n",
       "       [0.69180468],\n",
       "       [0.52209548],\n",
       "       [0.85318301],\n",
       "       [0.65102276],\n",
       "       [0.9629654 ],\n",
       "       [0.6685675 ],\n",
       "       [0.75751915],\n",
       "       [0.72132053],\n",
       "       [0.63087926],\n",
       "       [0.8441412 ],\n",
       "       [0.74174335],\n",
       "       [0.70096189],\n",
       "       [0.70943154],\n",
       "       [0.50412015],\n",
       "       [0.84155363],\n",
       "       [0.82509002],\n",
       "       [0.84679608],\n",
       "       [0.70497551],\n",
       "       [0.90262489],\n",
       "       [0.77887463],\n",
       "       [0.69708401],\n",
       "       [0.80330132],\n",
       "       [0.75829671],\n",
       "       [0.64758771],\n",
       "       [0.52740446],\n",
       "       [0.95186221],\n",
       "       [0.75077347],\n",
       "       [0.54508453],\n",
       "       [0.77885949],\n",
       "       [0.72302206],\n",
       "       [0.51571131],\n",
       "       [0.75471864],\n",
       "       [0.62083876],\n",
       "       [0.64629104],\n",
       "       [0.61339657],\n",
       "       [0.6581703 ],\n",
       "       [0.59198138],\n",
       "       [0.66521331],\n",
       "       [0.78968259],\n",
       "       [0.70913451],\n",
       "       [0.88291271],\n",
       "       [0.81283608],\n",
       "       [0.62450509],\n",
       "       [0.78108153],\n",
       "       [0.81283695],\n",
       "       [0.66290319],\n",
       "       [0.68600077],\n",
       "       [0.81219033],\n",
       "       [0.8559701 ],\n",
       "       [0.90520493],\n",
       "       [0.91057174],\n",
       "       [0.59504544],\n",
       "       [0.43818121],\n",
       "       [0.80424551],\n",
       "       [0.46820846],\n",
       "       [0.85854794],\n",
       "       [0.7051336 ],\n",
       "       [0.70897522],\n",
       "       [0.59310889],\n",
       "       [0.57677498],\n",
       "       [0.90254881],\n",
       "       [0.83748605],\n",
       "       [0.63167495],\n",
       "       [0.61985063],\n",
       "       [0.75836927],\n",
       "       [0.69157388],\n",
       "       [0.66815292],\n",
       "       [0.95973777],\n",
       "       [0.90469876],\n",
       "       [0.66469886],\n",
       "       [0.80366505],\n",
       "       [0.93630605],\n",
       "       [0.662118  ],\n",
       "       [0.770264  ],\n",
       "       [0.91438254],\n",
       "       [0.93178992],\n",
       "       [0.92971155],\n",
       "       [0.6232118 ],\n",
       "       [0.8857771 ],\n",
       "       [0.95629525],\n",
       "       [0.85890968],\n",
       "       [0.65182266],\n",
       "       [0.47157305],\n",
       "       [0.65810546]])"
      ]
     },
     "execution_count": 123,
     "metadata": {},
     "output_type": "execute_result"
    }
   ],
   "source": [
    "multiple_lin_reg.predict(x_train)"
   ]
  },
  {
   "cell_type": "markdown",
   "id": "498b2c30",
   "metadata": {},
   "source": [
    "<h4><i>Multiple Linear Regression Model Deployment Test</i></h4>"
   ]
  },
  {
   "cell_type": "code",
   "execution_count": 125,
   "id": "eb727d7c",
   "metadata": {},
   "outputs": [
    {
     "name": "stdout",
     "output_type": "stream",
     "text": [
      "Scoring response\n",
      "{'predictions': [{'fields': ['prediction'], 'values': [[[0.8274874358563875]]]}]}\n"
     ]
    }
   ],
   "source": [
    "import requests\n",
    "\n",
    "# NOTE: you must manually set API_KEY below using information retrieved from your IBM Cloud account.\n",
    "API_KEY = \"CB8dTF8Y0_o4amdiEL2FfNBLZ-EdGUGdLqrDk7Z2gzDP\"\n",
    "token_response = requests.post('https://iam.cloud.ibm.com/identity/token', data={\"apikey\":\n",
    " API_KEY, \"grant_type\": 'urn:ibm:params:oauth:grant-type:apikey'})\n",
    "mltoken = token_response.json()[\"access_token\"]\n",
    "\n",
    "header = {'Content-Type': 'application/json', 'Authorization': 'Bearer ' + mltoken}\n",
    "\n",
    "# NOTE: manually define and pass the array(s) of values to be scored in the next line\n",
    "payload_scoring = {\"input_data\": [{\"field\": [[\"GRE Score\",\"TOEFL Score\",\"University Rating\",\"SOP\",\"LOR \",\"CGPA\"]], \"values\": [[326, 110, 2, 3.5, 4, 9.23]]}]}\n",
    "\n",
    "response_scoring = requests.post('https://us-south.ml.cloud.ibm.com/ml/v4/deployments/f68fb233-7af6-473e-8e77-0b1ca625695f/predictions?version=2022-11-18', json=payload_scoring,\n",
    " headers={'Authorization': 'Bearer ' + mltoken})\n",
    "print(\"Scoring response\")\n",
    "print(response_scoring.json())"
   ]
  },
  {
   "cell_type": "code",
   "execution_count": 126,
   "id": "1f06de80",
   "metadata": {},
   "outputs": [
    {
     "data": {
      "text/plain": [
       "0.8274874358563875"
      ]
     },
     "execution_count": 126,
     "metadata": {},
     "output_type": "execute_result"
    }
   ],
   "source": [
    "probability = response_scoring.json()['predictions'][0]['values'][0][0][0]\n",
    "probability"
   ]
  },
  {
   "cell_type": "code",
   "execution_count": null,
   "id": "e60728b4",
   "metadata": {},
   "outputs": [],
   "source": []
  }
 ],
 "metadata": {
  "kernelspec": {
   "display_name": "Python 3.9",
   "language": "python",
   "name": "python3"
  },
  "language_info": {
   "codemirror_mode": {
    "name": "ipython",
    "version": 3
   },
   "file_extension": ".py",
   "mimetype": "text/x-python",
   "name": "python",
   "nbconvert_exporter": "python",
   "pygments_lexer": "ipython3",
   "version": "3.9.13"
  }
 },
 "nbformat": 4,
 "nbformat_minor": 5
}
